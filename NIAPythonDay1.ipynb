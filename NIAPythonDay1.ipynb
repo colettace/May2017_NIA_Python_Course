{
 "cells": [
  {
   "cell_type": "markdown",
   "metadata": {},
   "source": [
    "NIA Intro to Python Class - May 15, 2017"
   ]
  },
  {
   "cell_type": "markdown",
   "metadata": {},
   "source": [
    "# Day 1\n",
    "\n",
    "## About the instructor\n",
    "* Chris Coletta, Computer Scientist\n",
    "* Human Genetics Section (Schlessinger Lab), LGG\n",
    "* christopher.coletta@nih.gov\n",
    "* x8170\n",
    "* Room 10C222\n",
    "* [LinkedIn](https://www.linkedin.com/in/chriscoletta/), [personal webpage](http://www.chriscoletta.com), [twitter](https://twitter.com/blahblahetcetc)"
   ]
  },
  {
   "cell_type": "markdown",
   "metadata": {},
   "source": [
    "## Course format\n",
    "* Bootcamp style - no prior programming knowledge assumed\n",
    "* 6 total hours of instruction\n",
    "* No homework\n",
    "* Goal of this course: Spreadsheet Manipulation\n",
    "    * Read in and Excel file\n",
    "    * Do some transformations on the data\n",
    "    * Visualize the data\n",
    "* Roadmap\n",
    "    * Day 1: Background; the IDE; basic syntax & data types\n",
    "    * Day 2: Iterable data types; [Operators](https://en.wikipedia.org/wiki/Operator_%28computer_programming%29)\n",
    "    * Day 3: Controling the [flow](https://en.wikipedia.org/wiki/Control_flow) of your program\n",
    "    * Day 4: Data manipulation/visualization"
   ]
  },
  {
   "cell_type": "markdown",
   "metadata": {},
   "source": [
    "## Python fast facts\n",
    "\n",
    "* General-purpose programming language\n",
    "* [Open-source software](https://en.wikipedia.org/wiki/Open-source_software)\n",
    "* Free\n",
    "* Started in 1989 by [Guido van Rossum](https://en.wikipedia.org/wiki/Guido_van_Rossum)\n",
    "* Emphasizes code readability => Lower barrier to entry than other programming languages"
   ]
  },
  {
   "cell_type": "markdown",
   "metadata": {},
   "source": [
    "## Help Learning Python\n",
    "\n",
    "* [Python for Scientists and Engineers](http://pythonforengineers.com/python-for-scientists-and-engineers/) - Free Book by Shantnu Tiwari\n",
    "* Google search!\n",
    "* Use Python <code>help()</code> command"
   ]
  },
  {
   "cell_type": "markdown",
   "metadata": {},
   "source": [
    "## Ecosystem of Python Data Analysis Software\n",
    "\n",
    "[Anaconda](https://www.continuum.io/downloads) is one of many Python \"distributions\" that bundles the following three types of software:\n",
    "\n",
    "### \"Core\" Python\n",
    "* The Python interpreter - understands the syntax of the [Python](python.org) language\n",
    "* [Python Standard Library](https://docs.python.org/3/library/)\n",
    "    * Built-in tools, mathmatical functions, algorithms\n",
    "    * Organized into sub-units called \"packages\" that you <code>import</code>\n",
    "   \n",
    "### Third-party packages\n",
    "* Hundreds of them. My favorites:\n",
    "    * [NumPy](http://www.numpy.org/) - Linear algebra/matrices\n",
    "    * [SciPy](https://docs.scipy.org/doc/scipy/reference/) - Statistics + math\n",
    "    * [statsmodels](http://www.statsmodels.org/stable/index.html) - Linear models/regression\n",
    "    * [matplotlib](https://matplotlib.org/) - Makes plots/figures\n",
    "    * [Seaborn](https://seaborn.pydata.org/) - Really nice plots/figures\n",
    "    * [Pandas](http://pandas.pydata.org/) - Spreadsheet replacement/data manipulation\n",
    "    * [Scikit-learn](http://scikit-learn.org/) - Machine Learning\n",
    "    * [Scikit-image](http://scikit-image.org/) - Image processing\n",
    "    * [Biopython](http://biopython.org/wiki/Biopython) - Bioinformatics\n",
    "    * [WND-CHARM](https://github.com/wnd-charm/wnd-charm) - NIA in-house image analysis/machine learning\n",
    "    \n",
    "### IDE\n",
    "* [Jupyter Notebook](http://jupyter.org/) - Creates sharable documents containing live code, equations, visualizations and explanatory text.\n",
    "* [Spyder](https://pythonhosted.org/spyder/) - \"Scientific PYthon Development EnviRonment\""
   ]
  },
  {
   "cell_type": "markdown",
   "metadata": {},
   "source": [
    "## IDE Concepts\n",
    "* [Integrated Development Environment](https://en.wikipedia.org/wiki/Integrated_development_environment) - The software app you use to build and test your code\n",
    "* Compare and contrast how the user interfaces with Python and Excel\n",
    "    * Excel: Little cubby holes that you can shove data into\n",
    "    * Python: Give it a command to enter data\n",
    "    * Excel: You're the customer in the restaurant: All possible operations listed in the MENU\n",
    "    * Python: You're the chef in the restaurant: Write your own program by following recipes/[cookbooks](http://chimera.labs.oreilly.com/books/1230000000393)\n",
    "    * Excel: Don't really talk to other files\n",
    "    * Python: Input/output to other files is fundamental\n",
    "    * Excel: Sandbox: input and output to the same place\n",
    "    * Python & Jupyter Notebook: Clear workflow, like a cooking recipe or driving directions. Good for reproducible science.   \n",
    "* Example notebooks [here](https://github.com/jupyter/jupyter/wiki/A-gallery-of-interesting-Jupyter-Notebooks) and [here](http://nb.bianp.net/sort/views/)\n",
    "* Jupyter components\n",
    "    * Do coding inside web browser\n",
    "    * Browser communicates with a \"kernel\" (on local machine or in the cloud)\n",
    "    * <code>nbconvert</code> to save notebook into a .py, HTML, PDF, LaTeX, etc"
   ]
  },
  {
   "cell_type": "markdown",
   "metadata": {},
   "source": [
    "## Exploring the Jupyter IDE\n",
    "* Do the user interface tour\n",
    "\n",
    "### Cell types\n",
    "#### Markdown cells \n",
    "* [Markdown](https://github.com/adam-p/markdown-here/wiki/Markdown-Cheatsheet) Document-formatting style that is easly convertable to HTML\n",
    "* Headings preceeded by #\n",
    "* unordered lists preceeded by a \\*\n",
    "* ordered lists preceeded by a number\n",
    "* Math equations go in between two \\$, example: $t=\\frac{\\hat{\\beta}-\\beta_{{H}_0}}{s.e.(\\hat{\\beta})}$\n",
    "* Create links like [this](https://www.nia.nih.gov/)\n",
    "* insert images from the web like this: ![nia logo](https://calerie.duke.edu/sites/calerie.duke.edu/themes/calerie/images/logo-nia@2x.png)\n",
    "    \n",
    "#### Code Cells\n",
    "* commands go in here\n",
    "* tab-completion\n",
    "\n",
    "### Interacting with cells\n",
    "#### Command mode\n",
    "* Press Esc - box turns blue\n",
    "* Useful shortcuts:\n",
    "    * b = Insert cell below\n",
    "    * a = inser cell above\n",
    "    * dd = Delete cell\n",
    "    * Shift + up or down = select/highlight two or more cells\n",
    "    * M = merge highlightes cells into one\n",
    "\n",
    "#### Edit mode\n",
    "* Double click to edit - box turns green\n",
    "* Useful shortcuts\n",
    "    * Ctrl + Shift + - = split cell at cursor location\n",
    "    * Enter = gives you a new line inside the same cell\n",
    "    * Shift + Enter = Runs the code in this cell and go to the next one\n",
    "    * Ctrl + Enter = Runs the code in this cell and stay on this one"
   ]
  },
  {
   "cell_type": "markdown",
   "metadata": {},
   "source": [
    "## Linux-style file system commands\n",
    "\n",
    "Here are some useful Linux file commands that Jupyter notebook understands:"
   ]
  },
  {
   "cell_type": "markdown",
   "metadata": {},
   "source": [
    "<code>pwd</code> - \"Present working directory\""
   ]
  },
  {
   "cell_type": "code",
   "execution_count": null,
   "metadata": {},
   "outputs": [],
   "source": [
    "pwd"
   ]
  },
  {
   "cell_type": "markdown",
   "metadata": {},
   "source": [
    "<code>ls</code> - \"list files in present working directory\""
   ]
  },
  {
   "cell_type": "code",
   "execution_count": null,
   "metadata": {},
   "outputs": [],
   "source": [
    "ls"
   ]
  },
  {
   "cell_type": "markdown",
   "metadata": {},
   "source": [
    "<code>mkdir</code> - \"make a new folder\""
   ]
  },
  {
   "cell_type": "code",
   "execution_count": null,
   "metadata": {},
   "outputs": [],
   "source": [
    "mkdir NewFolder"
   ]
  },
  {
   "cell_type": "code",
   "execution_count": null,
   "metadata": {},
   "outputs": [],
   "source": [
    "ls"
   ]
  },
  {
   "cell_type": "markdown",
   "metadata": {},
   "source": [
    "<code>cd</code> - \"Change Directory of present working directory to another folder\""
   ]
  },
  {
   "cell_type": "code",
   "execution_count": null,
   "metadata": {},
   "outputs": [],
   "source": [
    "cd NewFolder"
   ]
  },
  {
   "cell_type": "markdown",
   "metadata": {},
   "source": [
    "<code>cd ..</code> - \"Go up one folder\""
   ]
  },
  {
   "cell_type": "code",
   "execution_count": null,
   "metadata": {},
   "outputs": [],
   "source": [
    "cd .."
   ]
  },
  {
   "cell_type": "markdown",
   "metadata": {},
   "source": [
    "<code>cd ~</code> \"Go home! (tilde character)\""
   ]
  },
  {
   "cell_type": "code",
   "execution_count": null,
   "metadata": {},
   "outputs": [],
   "source": [
    "cd ~"
   ]
  },
  {
   "cell_type": "markdown",
   "metadata": {},
   "source": [
    "<code>rmdir</code> FolderName \"Delete this directory\""
   ]
  },
  {
   "cell_type": "code",
   "execution_count": null,
   "metadata": {},
   "outputs": [],
   "source": [
    "rmdir NewFolder"
   ]
  },
  {
   "cell_type": "markdown",
   "metadata": {},
   "source": [
    "Other commands include:\n",
    "* <code>cp</code> which copies a file from one place to another\n",
    "* <code>mv</code> which moves a file from one place to another, or changes the name of a file.\n",
    "* more..."
   ]
  },
  {
   "cell_type": "markdown",
   "metadata": {},
   "source": [
    "## First steps with Python syntax\n",
    "\n",
    "FYI: Python is a case sensitive language, so <code>True</code> is not the same as <code>true</code>.\n",
    "\n",
    "### Statement\n",
    "\n",
    "Your Python code is broken up into statements. One statement per line, or separate with semi-colon"
   ]
  },
  {
   "cell_type": "markdown",
   "metadata": {},
   "source": [
    "### Comments\n",
    "Lines preceededed by a hash symbol \"#\" are ignored by the Python interpreter"
   ]
  },
  {
   "cell_type": "code",
   "execution_count": null,
   "metadata": {
    "collapsed": true
   },
   "outputs": [],
   "source": [
    "# Run me! nothing happens!!!"
   ]
  },
  {
   "cell_type": "markdown",
   "metadata": {},
   "source": [
    "### Assignment\n",
    "\n",
    "* An assignment is the name on the left side of an equal sign.\n",
    "* It gives a name to a value.\n",
    "* Names can have upper and lowercase letters, numbers (as long as it's not the first character), as well as underscores (Shift + -).\n",
    "* Don't use a name that is also a [Python Syntax keyword](https://docs.python.org/3/reference/lexical_analysis.html#keywords)"
   ]
  },
  {
   "cell_type": "code",
   "execution_count": null,
   "metadata": {
    "collapsed": true
   },
   "outputs": [],
   "source": [
    "my_fav_number = 42"
   ]
  },
  {
   "cell_type": "code",
   "execution_count": null,
   "metadata": {
    "collapsed": true
   },
   "outputs": [],
   "source": [
    "f00 = \"asdfasdf\""
   ]
  },
  {
   "cell_type": "markdown",
   "metadata": {},
   "source": [
    "See the value attached to the name by typing the name"
   ]
  },
  {
   "cell_type": "code",
   "execution_count": null,
   "metadata": {},
   "outputs": [],
   "source": [
    "my_fav_number"
   ]
  },
  {
   "cell_type": "markdown",
   "metadata": {},
   "source": [
    "### Print function\n",
    "Use the <code>print</code> function to see multiple values at once"
   ]
  },
  {
   "cell_type": "code",
   "execution_count": null,
   "metadata": {},
   "outputs": [],
   "source": [
    "print( my_fav_number, f00)"
   ]
  },
  {
   "cell_type": "markdown",
   "metadata": {},
   "source": [
    "### Code-completion\n",
    "\n",
    "Hit the TAB key to use code completion to help you type faster. "
   ]
  },
  {
   "cell_type": "code",
   "execution_count": null,
   "metadata": {},
   "outputs": [],
   "source": [
    "my_"
   ]
  },
  {
   "cell_type": "markdown",
   "metadata": {},
   "source": [
    "### Scalar Data types\n",
    "\n",
    "#### Integer\n",
    "<code>int</code> a counting number 1,2,3,...."
   ]
  },
  {
   "cell_type": "code",
   "execution_count": null,
   "metadata": {},
   "outputs": [],
   "source": [
    "1"
   ]
  },
  {
   "cell_type": "markdown",
   "metadata": {},
   "source": [
    "BTW: You can use the Python <code>type()</code> command to have Python tell you the type of any named value."
   ]
  },
  {
   "cell_type": "code",
   "execution_count": null,
   "metadata": {},
   "outputs": [],
   "source": [
    "type( my_fav_number )"
   ]
  },
  {
   "cell_type": "markdown",
   "metadata": {},
   "source": [
    "#### Float\n",
    "\n",
    "<code>float</code>s are decimal numbers"
   ]
  },
  {
   "cell_type": "markdown",
   "metadata": {},
   "source": [
    "#### PEMDAS operators\n",
    "\n",
    "1. Parentheses - <code>()</code>\n",
    "2. Exponent - <code>**</code>\n",
    "3. Multiplication - <code>*</code>\n",
    "4. Division - <code>/</code>\n",
    "5. Addition - <code>+</code>\n",
    "6. Subtraction - <code>-</code>"
   ]
  },
  {
   "cell_type": "markdown",
   "metadata": {},
   "source": [
    "### Boolean Expressions\n",
    "\n",
    "A <code>bool</code> can only have a value of <code>True</code> or <code>False</code>."
   ]
  },
  {
   "cell_type": "code",
   "execution_count": null,
   "metadata": {},
   "outputs": [],
   "source": [
    "True"
   ]
  },
  {
   "cell_type": "markdown",
   "metadata": {},
   "source": [
    "### <code>and</code>, <code>or</code>, and <code>not</code>\n",
    "\n",
    "<code>and</code> and <code>or</code> are \"binary operators\", meaning you slap them in between two truth values to make one value. <code>not</code> is a unary operator that negates the value after it."
   ]
  },
  {
   "cell_type": "code",
   "execution_count": null,
   "metadata": {},
   "outputs": [],
   "source": [
    "True and False"
   ]
  },
  {
   "cell_type": "code",
   "execution_count": null,
   "metadata": {},
   "outputs": [],
   "source": [
    "True or False"
   ]
  },
  {
   "cell_type": "code",
   "execution_count": null,
   "metadata": {},
   "outputs": [],
   "source": [
    "my_bool_value = True and False\n",
    "print( my_bool_value )"
   ]
  },
  {
   "cell_type": "code",
   "execution_count": null,
   "metadata": {},
   "outputs": [],
   "source": [
    "not True"
   ]
  },
  {
   "cell_type": "markdown",
   "metadata": {},
   "source": [
    "## Keeping track of your named values"
   ]
  },
  {
   "cell_type": "code",
   "execution_count": null,
   "metadata": {},
   "outputs": [],
   "source": [
    "whos"
   ]
  },
  {
   "cell_type": "code",
   "execution_count": null,
   "metadata": {},
   "outputs": [],
   "source": [
    "whos"
   ]
  },
  {
   "cell_type": "code",
   "execution_count": null,
   "metadata": {
    "collapsed": true
   },
   "outputs": [],
   "source": [
    "?whos"
   ]
  },
  {
   "cell_type": "code",
   "execution_count": null,
   "metadata": {},
   "outputs": [],
   "source": [
    "_"
   ]
  },
  {
   "cell_type": "code",
   "execution_count": null,
   "metadata": {},
   "outputs": [],
   "source": [
    "56"
   ]
  },
  {
   "cell_type": "code",
   "execution_count": null,
   "metadata": {},
   "outputs": [],
   "source": [
    "_"
   ]
  },
  {
   "cell_type": "markdown",
   "metadata": {},
   "source": [
    "### Strings\n",
    "\n",
    "* A <code>string</code> is a data type that contains one or more characters\n",
    "* Strings are surrounded by matching single or double quotes\n",
    "* You choose whether to use single or double quotes based on what's in the string."
   ]
  },
  {
   "cell_type": "code",
   "execution_count": null,
   "metadata": {},
   "outputs": [],
   "source": [
    "\"Hello, world!\""
   ]
  },
  {
   "cell_type": "code",
   "execution_count": null,
   "metadata": {},
   "outputs": [],
   "source": [
    "'Hello, world!'"
   ]
  },
  {
   "cell_type": "markdown",
   "metadata": {},
   "source": [
    "### Escape characters \n",
    "* Escape characters use a backslash followed by a single letter\n",
    "    * '\\n' - a newline character\n",
    "    * '\\t' - a tab character\n",
    "    * '\\\\' - a backslash character (escape the escape character)\n",
    "    * \"\\\"\" - a single quote (but why wouldn't you just use '\"'?"
   ]
  },
  {
   "cell_type": "code",
   "execution_count": null,
   "metadata": {},
   "outputs": [],
   "source": [
    "some_escape_chars = 'line one\\nline two'\n",
    "print( some_escape_chars )"
   ]
  },
  {
   "cell_type": "code",
   "execution_count": null,
   "metadata": {},
   "outputs": [],
   "source": [
    "# triple double quotes capture the newlines\n",
    "no_need_for_escape_chars = \"\"\" hello\n",
    "what's up? nuttin'\n",
    "\"whatchu say to me?\"\n",
    "word.\n",
    "here are some backslashes: \\ \\\\ \\\\\\ \\\\\\\\\"\"\"\n",
    "print (no_need_for_escape_chars)"
   ]
  },
  {
   "cell_type": "markdown",
   "metadata": {},
   "source": [
    "### String Operations\n",
    "\n",
    "#### Repeat"
   ]
  },
  {
   "cell_type": "code",
   "execution_count": null,
   "metadata": {},
   "outputs": [],
   "source": [
    "n = \"hello\"\n",
    "echo = n * 5 # Repeat the string 5 times\n",
    "echo"
   ]
  },
  {
   "cell_type": "markdown",
   "metadata": {},
   "source": [
    "#### Concatenate"
   ]
  },
  {
   "cell_type": "code",
   "execution_count": null,
   "metadata": {},
   "outputs": [],
   "source": [
    "# Concatenate with +\n",
    "boast = \"I am the very model of a \"\n",
    "occupation = \"modern major general.\"\n",
    "a_string = boast + occupation\n",
    "a_string"
   ]
  },
  {
   "cell_type": "code",
   "execution_count": null,
   "metadata": {},
   "outputs": [],
   "source": [
    "# To concatenate strings, everything must already be a string\n",
    "# See the problem here?\n",
    "profound_statement = \"The answer to life, the universe, and everything is \" + 42"
   ]
  },
  {
   "cell_type": "code",
   "execution_count": null,
   "metadata": {},
   "outputs": [],
   "source": [
    "# Try converting the value to a string\n",
    "profound_statement = \"The answer to life, the universe, and everything is \" + str(42)\n",
    "profound_statement"
   ]
  },
  {
   "cell_type": "markdown",
   "metadata": {},
   "source": [
    "#### Slicing strings into substrings"
   ]
  },
  {
   "cell_type": "code",
   "execution_count": null,
   "metadata": {},
   "outputs": [],
   "source": [
    "# Return a substring using a brackets separated by a colon\n",
    "profound_statement[3:22]"
   ]
  },
  {
   "cell_type": "code",
   "execution_count": null,
   "metadata": {},
   "outputs": [],
   "source": [
    "# Just because you just returned a substring from a string\n",
    "# doesn't mean you changed the original string. \n",
    "profound_statement"
   ]
  },
  {
   "cell_type": "code",
   "execution_count": null,
   "metadata": {},
   "outputs": [],
   "source": [
    "# [begin index:end index:step]\n",
    "profound_statement[3:32:3] # take every 3rd letter"
   ]
  },
  {
   "cell_type": "code",
   "execution_count": null,
   "metadata": {},
   "outputs": [],
   "source": [
    "# Leave the index blank to default to the beginning or end of the string\n",
    "profound_statement[:25]"
   ]
  },
  {
   "cell_type": "code",
   "execution_count": null,
   "metadata": {},
   "outputs": [],
   "source": [
    "profound_statement[25:]"
   ]
  },
  {
   "cell_type": "code",
   "execution_count": null,
   "metadata": {},
   "outputs": [],
   "source": [
    "# If i is negative, index is relative to end of string\n",
    "profound_statement[-25:]"
   ]
  },
  {
   "cell_type": "code",
   "execution_count": null,
   "metadata": {},
   "outputs": [],
   "source": [
    "# Reverse a string by using a negative step value\n",
    "\"a man, a plan, a canal, panama\"[::-1]"
   ]
  },
  {
   "cell_type": "code",
   "execution_count": null,
   "metadata": {
    "collapsed": true
   },
   "outputs": [],
   "source": []
  }
 ],
 "metadata": {
  "kernelspec": {
   "display_name": "Python 3",
   "language": "python",
   "name": "python3"
  },
  "language_info": {
   "codemirror_mode": {
    "name": "ipython",
    "version": 3
   },
   "file_extension": ".py",
   "mimetype": "text/x-python",
   "name": "python",
   "nbconvert_exporter": "python",
   "pygments_lexer": "ipython3",
   "version": "3.6.1"
  }
 },
 "nbformat": 4,
 "nbformat_minor": 2
}
