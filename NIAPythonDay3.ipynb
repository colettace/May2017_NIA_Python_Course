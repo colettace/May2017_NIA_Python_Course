{
 "cells": [
  {
   "cell_type": "markdown",
   "metadata": {},
   "source": [
    "NIA Intro to Python Class - May 17, 2017"
   ]
  },
  {
   "cell_type": "markdown",
   "metadata": {},
   "source": [
    "# Day 3: Control Flow, plus advanced data types\n",
    "\n",
    "Part 1 of today's talk focuses on control flow ([wiki article](http://en.wikipedia.org/wiki/Control_flow)), which is the part of a programming language's syntax that enables execution of the program to follow down one or more branches of instructions conditionaly, or going in loops.\n",
    "* <code>if</code>/<code>then</code>/<code>else</code>\n",
    "* <code>while</code> loops\n",
    "* <code>for</code> loops\n",
    "* nested <code>for</code> loops\n",
    "\n",
    "Part 2 of todays talk will involve discussion of two new data types that are third-party extensions to Python but are universally used in the data analysis.\n",
    "* Matrices using [NumPy arrays](https://docs.scipy.org/doc/numpy-dev/user/quickstart.html)\n",
    "* DataFrames using [Pandas](http://pandas.pydata.org/pandas-docs/stable/10min.html)\n",
    "\n",
    "---"
   ]
  },
  {
   "cell_type": "markdown",
   "metadata": {},
   "source": [
    "## Preview for tomorrow:\n",
    "\n",
    "[These](https://seaborn.pydata.org/examples/index.html) are just a few of the types of data visualizations you can do in Python."
   ]
  },
  {
   "cell_type": "markdown",
   "metadata": {},
   "source": [
    "## Review of material thus far\n",
    "\n",
    "1. Familiarizing yourself with the Jupyter Notebook IDE\n",
    "    * code completion using Tab key\n",
    "    * print out all your variables\n",
    "    * syntax highlighting\n",
    "    * more\n",
    "2. Python scalar data types\n",
    "    * <code>int</code>\n",
    "    * <code>float</code>\n",
    "    * <code>bool</code>\n",
    "3. Python iterable data types\n",
    "    * <code>str</code>\n",
    "    * <code>list</code>\n",
    "    * <code>tuple</code>\n",
    "    * <code>dict</code>\n",
    "    * <code>set</code>\n",
    "4. Operators and Operations on Iterables\n",
    "    * add items to and delete items from iterables\n",
    "    * split, slice and concatenate\n",
    "    * Nested iterables\n",
    "    * Basic sorting"
   ]
  },
  {
   "cell_type": "markdown",
   "metadata": {},
   "source": [
    "## Conditional Statements"
   ]
  },
  {
   "cell_type": "markdown",
   "metadata": {},
   "source": [
    "### The <code>if</code> statement (a simple conditional)\n",
    "\n",
    "* Use the keyword <code>if</code>, followed by the test, followed by a colon\n",
    "* lines that should be evaluated if the test is true should be indented."
   ]
  },
  {
   "cell_type": "code",
   "execution_count": 1,
   "metadata": {},
   "outputs": [
    {
     "name": "stdout",
     "output_type": "stream",
     "text": [
      "True fact.\n",
      "This line prints regardless.\n"
     ]
    }
   ],
   "source": [
    "if True:\n",
    "    print( \"True fact.\")\n",
    "print( \"This line prints regardless.\")"
   ]
  },
  {
   "cell_type": "markdown",
   "metadata": {},
   "source": [
    "### <code>if</code>/<code>else</code> statements (a one alternative conditional)\n",
    "\n",
    "* The <code>else</code> statements goes at the same indentation level as the matching <code>if</code> statement:"
   ]
  },
  {
   "cell_type": "code",
   "execution_count": 3,
   "metadata": {},
   "outputs": [
    {
     "name": "stdout",
     "output_type": "stream",
     "text": [
      "True fact.\n",
      "Yup.\n",
      "This line prints regardless.\n"
     ]
    }
   ],
   "source": [
    "if True:\n",
    "    print( \"True fact.\")\n",
    "    print( \"Yup.\" )\n",
    "else:\n",
    "    print( \"This ain't gonna print.\" )\n",
    "print( \"This line prints regardless.\")"
   ]
  },
  {
   "cell_type": "markdown",
   "metadata": {},
   "source": [
    "### Simple tests and compound tests\n",
    "\n",
    "Use an operator inside the conditional, and use other operators to combine tests."
   ]
  },
  {
   "cell_type": "code",
   "execution_count": 5,
   "metadata": {},
   "outputs": [
    {
     "name": "stdout",
     "output_type": "stream",
     "text": [
      "0 doesn't have a negative sign.\n"
     ]
    }
   ],
   "source": [
    "some_value = 0\n",
    "\n",
    "if some_value < 0:\n",
    "    print( str( some_value), \"has a negative sign.\")\n",
    "else:\n",
    "    print( str( some_value) , \"doesn't have a negative sign.\")"
   ]
  },
  {
   "cell_type": "code",
   "execution_count": 21,
   "metadata": {},
   "outputs": [
    {
     "name": "stdout",
     "output_type": "stream",
     "text": [
      "0 is out-of-bounds.\n"
     ]
    }
   ],
   "source": [
    "test_value = 0\n",
    "\n",
    "if test_value < 10 or test_value > 20:\n",
    "    print( str( test_value ), \"is out-of-bounds.\")\n",
    "else:\n",
    "    print( str( some_value ) , \"is inbounds.\")"
   ]
  },
  {
   "cell_type": "markdown",
   "metadata": {},
   "source": [
    "Boolean expressions are evaluated left to right and have an order of operations. Use parentheses to clarify."
   ]
  },
  {
   "cell_type": "markdown",
   "metadata": {},
   "source": [
    "### <code>any()</code> and <code>all()</code>"
   ]
  },
  {
   "cell_type": "code",
   "execution_count": 13,
   "metadata": {
    "collapsed": true
   },
   "outputs": [],
   "source": [
    "some_conditions = [False, False, False, True, True]"
   ]
  },
  {
   "cell_type": "code",
   "execution_count": 10,
   "metadata": {
    "scrolled": true
   },
   "outputs": [
    {
     "data": {
      "text/plain": [
       "True"
      ]
     },
     "execution_count": 10,
     "metadata": {},
     "output_type": "execute_result"
    }
   ],
   "source": [
    "any( some_conditions )"
   ]
  },
  {
   "cell_type": "code",
   "execution_count": 11,
   "metadata": {},
   "outputs": [
    {
     "data": {
      "text/plain": [
       "False"
      ]
     },
     "execution_count": 11,
     "metadata": {},
     "output_type": "execute_result"
    }
   ],
   "source": [
    "all( some_conditions )"
   ]
  },
  {
   "cell_type": "markdown",
   "metadata": {},
   "source": [
    "### By the way....\n",
    "\n",
    "Coercing True or False values into integers is one way to count them."
   ]
  },
  {
   "cell_type": "code",
   "execution_count": 15,
   "metadata": {},
   "outputs": [
    {
     "data": {
      "text/plain": [
       "1"
      ]
     },
     "execution_count": 15,
     "metadata": {},
     "output_type": "execute_result"
    }
   ],
   "source": [
    "int(True)"
   ]
  },
  {
   "cell_type": "code",
   "execution_count": 16,
   "metadata": {},
   "outputs": [
    {
     "data": {
      "text/plain": [
       "0"
      ]
     },
     "execution_count": 16,
     "metadata": {},
     "output_type": "execute_result"
    }
   ],
   "source": [
    "int(False)"
   ]
  },
  {
   "cell_type": "code",
   "execution_count": 19,
   "metadata": {},
   "outputs": [
    {
     "data": {
      "text/plain": [
       "2"
      ]
     },
     "execution_count": 19,
     "metadata": {},
     "output_type": "execute_result"
    }
   ],
   "source": [
    "sum( some_conditions )"
   ]
  },
  {
   "cell_type": "markdown",
   "metadata": {},
   "source": [
    "### <code>if</code>/<code>elif</code>/<code>else</code> (multi-test conditional)"
   ]
  },
  {
   "cell_type": "code",
   "execution_count": 24,
   "metadata": {},
   "outputs": [
    {
     "name": "stdout",
     "output_type": "stream",
     "text": [
      "0 is too low\n"
     ]
    }
   ],
   "source": [
    "test_value = 0\n",
    "\n",
    "if test_value < 10:\n",
    "    print( str( test_value ), \"is too low\")\n",
    "elif test_value > 20:\n",
    "    print( str( test_value ), \"is too high\")\n",
    "else:\n",
    "    print( str( test_value ) , \"is just right.\")"
   ]
  },
  {
   "cell_type": "markdown",
   "metadata": {},
   "source": [
    "### The <code>pass</code> statement: no naked <code>if</code> statements!\n",
    "If you want Python to do nothing if the condition is true, you can't just leave a blank line, you have to use the keyword <code>pass</code>, properly indented."
   ]
  },
  {
   "cell_type": "code",
   "execution_count": 58,
   "metadata": {},
   "outputs": [],
   "source": [
    "planet_earth = { 'population' : 6e9, 'color' : 'blue' }\n",
    "\n",
    "# There's nothing I can do...\n",
    "if planet_earth['color'] == 'blue':\n",
    "    pass\n",
    "else:\n",
    "    print \"Floating in my tin can.\""
   ]
  },
  {
   "cell_type": "markdown",
   "metadata": {},
   "source": [
    "### One-liner if statements\n",
    "\n",
    "You can put the single conditionals on one line if you want."
   ]
  },
  {
   "cell_type": "code",
   "execution_count": 60,
   "metadata": {},
   "outputs": [],
   "source": [
    "if 'man' is 5: the_devil = 6"
   ]
  },
  {
   "cell_type": "markdown",
   "metadata": {},
   "source": [
    "## <a name=\"while\"><code>while</code> loops</a>\n",
    "\n",
    "A while loop evaluates a boolean expression and does the code in the loop over and over as long as the expression evaluates to true."
   ]
  },
  {
   "cell_type": "code",
   "execution_count": 59,
   "metadata": {},
   "outputs": [
    {
     "name": "stdout",
     "output_type": "stream",
     "text": [
      "No beer, you 15-year-old, wait until next year.\n",
      "No beer, you 16-year-old, wait until next year.\n",
      "No beer, you 17-year-old, wait until next year.\n",
      "No beer, you 18-year-old, wait until next year.\n",
      "No beer, you 19-year-old, wait until next year.\n",
      "No beer, you 20-year-old, wait until next year.\n",
      "You're 21, it's party time!\n"
     ]
    }
   ],
   "source": [
    "age = 15\n",
    "while age < 21:\n",
    "    print( \"No beer, you\", str(age) + \"-year-old, wait until next year.\")\n",
    "    age += 1\n",
    "\n",
    "print( \"You're 21, it's party time!\")"
   ]
  },
  {
   "cell_type": "markdown",
   "metadata": {},
   "source": [
    "Another way to structure a while loop is to \"loop forever\" and use a conditional statement with the <code>break</code> keyword."
   ]
  },
  {
   "cell_type": "markdown",
   "metadata": {},
   "source": [
    "## <a name=\"for\"><code>for</code> loops</a>\n",
    "\n",
    "* \"Python’s <code>for</code> statement iterates over the items of any sequence (a list or a string), in the order that they appear in the sequence.\" [reference](http://docs.python.org/2/tutorial/controlflow.html).\n",
    "* Often times if you know exactly how many times you need to loop, you'll use the <code>range()</code> function, which returns a list of numbers for the for loop to iterate over.\n",
    "* Each time through the loop, Python with put the next item in the sequence into the variable whose name you declare by putting it between the <code>for</code> and <code>in</code> keywords."
   ]
  },
  {
   "cell_type": "markdown",
   "metadata": {},
   "source": [
    "### Iterate N times"
   ]
  },
  {
   "cell_type": "code",
   "execution_count": 29,
   "metadata": {},
   "outputs": [
    {
     "data": {
      "text/plain": [
       "[0, 1, 2, 3, 4, 5, 6, 7, 8, 9]"
      ]
     },
     "execution_count": 29,
     "metadata": {},
     "output_type": "execute_result"
    }
   ],
   "source": [
    "# range counts from 0\n",
    "list( range(10) )"
   ]
  },
  {
   "cell_type": "code",
   "execution_count": 32,
   "metadata": {},
   "outputs": [
    {
     "name": "stdout",
     "output_type": "stream",
     "text": [
      "0th time through the for loop.\n",
      "1st time through the for loop.\n",
      "2nd time through the for loop.\n",
      "3rd time through the for loop.\n",
      "4th time through the for loop.\n",
      "5th time through the for loop.\n",
      "6th time through the for loop.\n",
      "7th time through the for loop.\n",
      "8th time through the for loop.\n",
      "9th time through the for loop.\n"
     ]
    }
   ],
   "source": [
    "for i in range(10):\n",
    "    if i == 1:\n",
    "        suffix = 'st'\n",
    "    elif i == 2:\n",
    "        suffix = 'nd'\n",
    "    elif i == 3:\n",
    "        suffix = 'rd'\n",
    "    else:\n",
    "        suffix = 'th'\n",
    "    print( str(i) + suffix, \"time through the for loop.\" )"
   ]
  },
  {
   "cell_type": "markdown",
   "metadata": {},
   "source": [
    "### Iterate over a list of objects"
   ]
  },
  {
   "cell_type": "code",
   "execution_count": 34,
   "metadata": {
    "collapsed": true
   },
   "outputs": [],
   "source": [
    "name_list = ['dick', 'jane', 'spot', 'mom', 'dad' ]"
   ]
  },
  {
   "cell_type": "code",
   "execution_count": 36,
   "metadata": {},
   "outputs": [
    {
     "name": "stdout",
     "output_type": "stream",
     "text": [
      "see dick run!\n",
      "see jane run!\n",
      "see spot run!\n",
      "see mom run!\n",
      "see dad run!\n"
     ]
    }
   ],
   "source": [
    "for name in name_list:\n",
    "    print( \"see\", name, \"run!\" )"
   ]
  },
  {
   "cell_type": "markdown",
   "metadata": {},
   "source": [
    "### Unpacking nested iterables inside the <code>for</code> loop\n",
    "* See how you can unpack the tuple right inside the for loop:"
   ]
  },
  {
   "cell_type": "code",
   "execution_count": 47,
   "metadata": {},
   "outputs": [
    {
     "data": {
      "text/plain": [
       "['dick', 'jane', 'spot', 'mom', 'dad']"
      ]
     },
     "execution_count": 47,
     "metadata": {},
     "output_type": "execute_result"
    }
   ],
   "source": [
    "name_list"
   ]
  },
  {
   "cell_type": "code",
   "execution_count": 48,
   "metadata": {
    "collapsed": true
   },
   "outputs": [],
   "source": [
    "num_names = len( name_list )"
   ]
  },
  {
   "cell_type": "code",
   "execution_count": 49,
   "metadata": {},
   "outputs": [
    {
     "data": {
      "text/plain": [
       "5"
      ]
     },
     "execution_count": 49,
     "metadata": {},
     "output_type": "execute_result"
    }
   ],
   "source": [
    "num_names"
   ]
  },
  {
   "cell_type": "code",
   "execution_count": 50,
   "metadata": {
    "collapsed": true
   },
   "outputs": [],
   "source": [
    "indices = list( range( num_names ) )"
   ]
  },
  {
   "cell_type": "code",
   "execution_count": 51,
   "metadata": {},
   "outputs": [
    {
     "data": {
      "text/plain": [
       "[0, 1, 2, 3, 4]"
      ]
     },
     "execution_count": 51,
     "metadata": {},
     "output_type": "execute_result"
    }
   ],
   "source": [
    "indices"
   ]
  },
  {
   "cell_type": "code",
   "execution_count": 52,
   "metadata": {
    "collapsed": true
   },
   "outputs": [],
   "source": [
    "zipped_together = list( zip( indices, name_list ) )"
   ]
  },
  {
   "cell_type": "code",
   "execution_count": 53,
   "metadata": {},
   "outputs": [
    {
     "data": {
      "text/plain": [
       "[(0, 'dick'), (1, 'jane'), (2, 'spot'), (3, 'mom'), (4, 'dad')]"
      ]
     },
     "execution_count": 53,
     "metadata": {},
     "output_type": "execute_result"
    }
   ],
   "source": [
    "zipped_together"
   ]
  },
  {
   "cell_type": "code",
   "execution_count": 57,
   "metadata": {},
   "outputs": [
    {
     "name": "stdout",
     "output_type": "stream",
     "text": [
      "Line 0 - See dick run!\n",
      "Line 1 - See jane run!\n",
      "Line 2 - See spot run!\n",
      "Line 3 - See mom run!\n",
      "Line 4 - See dad run!\n"
     ]
    }
   ],
   "source": [
    "for i, name in zipped_together:\n",
    "    print( \"Line\", i, \"- See\", name, \"run!\" )"
   ]
  },
  {
   "cell_type": "markdown",
   "metadata": {},
   "source": [
    "### Using <code>enumerate()</code> to count off for you\n",
    "\n",
    "* The code above is quivalent to using enumerate.\n",
    "* Use the function <code>enumerate()</code> if you need to slap an index onto an iterable you already have.\n",
    "* Each time through the loop <code>enumerate()</code> returns a tuple of two values, the first being the index, and the second being the value."
   ]
  },
  {
   "cell_type": "code",
   "execution_count": 58,
   "metadata": {},
   "outputs": [
    {
     "name": "stdout",
     "output_type": "stream",
     "text": [
      "Line 0 - See dick run!\n",
      "Line 1 - See jane run!\n",
      "Line 2 - See spot run!\n",
      "Line 3 - See mom run!\n",
      "Line 4 - See dad run!\n"
     ]
    }
   ],
   "source": [
    "for i, name in enumerate( name_list ):\n",
    "    print( \"Line\", i, \"- See\", name, \"run!\" )"
   ]
  },
  {
   "cell_type": "markdown",
   "metadata": {},
   "source": [
    "## Nested <code>for</code> loops\n",
    "\n",
    "You can put for loops inside other for loops. For example here's a brute force way to create a multiplication table."
   ]
  },
  {
   "cell_type": "code",
   "execution_count": null,
   "metadata": {
    "collapsed": true
   },
   "outputs": [],
   "source": [
    "import numpy as np"
   ]
  },
  {
   "cell_type": "code",
   "execution_count": 61,
   "metadata": {
    "collapsed": true
   },
   "outputs": [],
   "source": [
    "all_rows = []\n",
    "\n",
    "for i in range(1,13):\n",
    "    a_row = []\n",
    "    for j in range(1,13):\n",
    "        a_row.append( i * j )\n",
    "    all_rows.append( a_row )"
   ]
  },
  {
   "cell_type": "code",
   "execution_count": 62,
   "metadata": {},
   "outputs": [
    {
     "data": {
      "text/plain": [
       "[[1, 2, 3, 4, 5, 6, 7, 8, 9, 10, 11, 12],\n",
       " [2, 4, 6, 8, 10, 12, 14, 16, 18, 20, 22, 24],\n",
       " [3, 6, 9, 12, 15, 18, 21, 24, 27, 30, 33, 36],\n",
       " [4, 8, 12, 16, 20, 24, 28, 32, 36, 40, 44, 48],\n",
       " [5, 10, 15, 20, 25, 30, 35, 40, 45, 50, 55, 60],\n",
       " [6, 12, 18, 24, 30, 36, 42, 48, 54, 60, 66, 72],\n",
       " [7, 14, 21, 28, 35, 42, 49, 56, 63, 70, 77, 84],\n",
       " [8, 16, 24, 32, 40, 48, 56, 64, 72, 80, 88, 96],\n",
       " [9, 18, 27, 36, 45, 54, 63, 72, 81, 90, 99, 108],\n",
       " [10, 20, 30, 40, 50, 60, 70, 80, 90, 100, 110, 120],\n",
       " [11, 22, 33, 44, 55, 66, 77, 88, 99, 110, 121, 132],\n",
       " [12, 24, 36, 48, 60, 72, 84, 96, 108, 120, 132, 144]]"
      ]
     },
     "execution_count": 62,
     "metadata": {},
     "output_type": "execute_result"
    }
   ],
   "source": [
    "all_rows"
   ]
  },
  {
   "cell_type": "markdown",
   "metadata": {},
   "source": [
    "## NumPy arrays\n",
    "\n",
    "* Rather than nested lists, you can use a matrix.\n",
    "* Use if you have data all of the same type (ints, floats, bools)\n",
    "* Row indices and column indices count from 0!\n",
    "* Numpy matrices have basic statistics built in."
   ]
  },
  {
   "cell_type": "code",
   "execution_count": 63,
   "metadata": {
    "collapsed": true
   },
   "outputs": [],
   "source": [
    "# import the package and give it a nickname\n",
    "import numpy as np"
   ]
  },
  {
   "cell_type": "markdown",
   "metadata": {},
   "source": [
    "### Initialize a new matrix from a nested list"
   ]
  },
  {
   "cell_type": "code",
   "execution_count": 66,
   "metadata": {},
   "outputs": [],
   "source": [
    "mult_table = np.array( all_rows )"
   ]
  },
  {
   "cell_type": "code",
   "execution_count": 67,
   "metadata": {},
   "outputs": [
    {
     "data": {
      "text/plain": [
       "array([[  1,   2,   3,   4,   5,   6,   7,   8,   9,  10,  11,  12],\n",
       "       [  2,   4,   6,   8,  10,  12,  14,  16,  18,  20,  22,  24],\n",
       "       [  3,   6,   9,  12,  15,  18,  21,  24,  27,  30,  33,  36],\n",
       "       [  4,   8,  12,  16,  20,  24,  28,  32,  36,  40,  44,  48],\n",
       "       [  5,  10,  15,  20,  25,  30,  35,  40,  45,  50,  55,  60],\n",
       "       [  6,  12,  18,  24,  30,  36,  42,  48,  54,  60,  66,  72],\n",
       "       [  7,  14,  21,  28,  35,  42,  49,  56,  63,  70,  77,  84],\n",
       "       [  8,  16,  24,  32,  40,  48,  56,  64,  72,  80,  88,  96],\n",
       "       [  9,  18,  27,  36,  45,  54,  63,  72,  81,  90,  99, 108],\n",
       "       [ 10,  20,  30,  40,  50,  60,  70,  80,  90, 100, 110, 120],\n",
       "       [ 11,  22,  33,  44,  55,  66,  77,  88,  99, 110, 121, 132],\n",
       "       [ 12,  24,  36,  48,  60,  72,  84,  96, 108, 120, 132, 144]])"
      ]
     },
     "execution_count": 67,
     "metadata": {},
     "output_type": "execute_result"
    }
   ],
   "source": [
    "mult_table"
   ]
  },
  {
   "cell_type": "markdown",
   "metadata": {},
   "source": [
    "### The <code>.shape</code> attribute"
   ]
  },
  {
   "cell_type": "code",
   "execution_count": 70,
   "metadata": {},
   "outputs": [
    {
     "data": {
      "text/plain": [
       "(12, 12)"
      ]
     },
     "execution_count": 70,
     "metadata": {},
     "output_type": "execute_result"
    }
   ],
   "source": [
    "mult_table.shape"
   ]
  },
  {
   "cell_type": "markdown",
   "metadata": {},
   "source": [
    "### Declare an empty matrix of a fixed size"
   ]
  },
  {
   "cell_type": "code",
   "execution_count": null,
   "metadata": {},
   "outputs": [],
   "source": [
    "np.zeros((12,12))"
   ]
  },
  {
   "cell_type": "code",
   "execution_count": null,
   "metadata": {},
   "outputs": [],
   "source": [
    "np.empty((12,12))"
   ]
  },
  {
   "cell_type": "markdown",
   "metadata": {},
   "source": [
    "### Indexing on NumPy Arrays\n",
    "\n",
    "* Use brackets <code>[]</code>\n",
    "* Inside brackets, row/column indices are separated by a comma"
   ]
  },
  {
   "cell_type": "code",
   "execution_count": null,
   "metadata": {
    "collapsed": true
   },
   "outputs": [],
   "source": [
    "for i in range(1,13):\n",
    "    for j in range(1,13):\n",
    "        mult_table[ i-1, j-1 ] = i * j\n",
    "\n",
    "mult_table"
   ]
  },
  {
   "cell_type": "markdown",
   "metadata": {},
   "source": [
    "### Missing data\n",
    "\n",
    "* Oftentimes, missing data is represented as <code>np.nan</code>, which stands for Not A Number\n",
    "* No missing data representation for an integer"
   ]
  },
  {
   "cell_type": "code",
   "execution_count": 87,
   "metadata": {},
   "outputs": [],
   "source": [
    "decimal_mult_table = mult_table.astype(float)"
   ]
  },
  {
   "cell_type": "code",
   "execution_count": null,
   "metadata": {},
   "outputs": [],
   "source": [
    "decimal_mult_table"
   ]
  },
  {
   "cell_type": "code",
   "execution_count": 89,
   "metadata": {},
   "outputs": [
    {
     "data": {
      "text/plain": [
       "array([  1.,   2.,   3.,   4.,   5.,   6.,   7.,   8.,   9.,  10.,  11.,\n",
       "        12.])"
      ]
     },
     "execution_count": 89,
     "metadata": {},
     "output_type": "execute_result"
    }
   ],
   "source": [
    "decimal_mult_table[0]"
   ]
  },
  {
   "cell_type": "code",
   "execution_count": 90,
   "metadata": {},
   "outputs": [
    {
     "data": {
      "text/plain": [
       "78.0"
      ]
     },
     "execution_count": 90,
     "metadata": {},
     "output_type": "execute_result"
    }
   ],
   "source": [
    "decimal_mult_table[0].sum()"
   ]
  },
  {
   "cell_type": "code",
   "execution_count": 91,
   "metadata": {},
   "outputs": [
    {
     "data": {
      "text/plain": [
       "12.0"
      ]
     },
     "execution_count": 91,
     "metadata": {},
     "output_type": "execute_result"
    }
   ],
   "source": [
    "decimal_mult_table[0, 11]"
   ]
  },
  {
   "cell_type": "code",
   "execution_count": 93,
   "metadata": {},
   "outputs": [],
   "source": [
    "decimal_mult_table[0, 11] = np.nan"
   ]
  },
  {
   "cell_type": "code",
   "execution_count": 95,
   "metadata": {},
   "outputs": [
    {
     "data": {
      "text/plain": [
       "array([  1.,   2.,   3.,   4.,   5.,   6.,   7.,   8.,   9.,  10.,  11.,\n",
       "        nan])"
      ]
     },
     "execution_count": 95,
     "metadata": {},
     "output_type": "execute_result"
    }
   ],
   "source": [
    "decimal_mult_table[0]"
   ]
  },
  {
   "cell_type": "code",
   "execution_count": 94,
   "metadata": {},
   "outputs": [
    {
     "data": {
      "text/plain": [
       "nan"
      ]
     },
     "execution_count": 94,
     "metadata": {},
     "output_type": "execute_result"
    }
   ],
   "source": [
    "decimal_mult_table.sum()"
   ]
  },
  {
   "cell_type": "code",
   "execution_count": 99,
   "metadata": {},
   "outputs": [
    {
     "data": {
      "text/plain": [
       "66.0"
      ]
     },
     "execution_count": 99,
     "metadata": {},
     "output_type": "execute_result"
    }
   ],
   "source": [
    "np.nansum( decimal_mult_table[0] )"
   ]
  },
  {
   "cell_type": "markdown",
   "metadata": {},
   "source": [
    "## PANDAS DataFrame\n",
    "\n",
    "* Emulate R's <code>data.frame</code> structure.\n",
    "* Basically a NumPy matrix with\n",
    "    * Row and column names\n",
    "    * Can have columns of different types\n",
    "    * Handles missing data better"
   ]
  },
  {
   "cell_type": "code",
   "execution_count": 1,
   "metadata": {
    "collapsed": true
   },
   "outputs": [],
   "source": [
    "import pandas as pd"
   ]
  },
  {
   "cell_type": "code",
   "execution_count": null,
   "metadata": {
    "collapsed": true
   },
   "outputs": [],
   "source": [
    "df1.dropna(how='any')"
   ]
  }
 ],
 "metadata": {
  "kernelspec": {
   "display_name": "Python 3",
   "language": "python",
   "name": "python3"
  },
  "language_info": {
   "codemirror_mode": {
    "name": "ipython",
    "version": 3
   },
   "file_extension": ".py",
   "mimetype": "text/x-python",
   "name": "python",
   "nbconvert_exporter": "python",
   "pygments_lexer": "ipython3",
   "version": "3.6.1"
  }
 },
 "nbformat": 4,
 "nbformat_minor": 1
}
